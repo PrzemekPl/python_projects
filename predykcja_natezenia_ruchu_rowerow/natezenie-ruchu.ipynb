{
 "cells": [
  {
   "cell_type": "code",
   "execution_count": 1,
   "metadata": {},
   "outputs": [],
   "source": [
    "import pandas as pd\n",
    "import json\n",
    "import numpy as np\n",
    "import os\n",
    "import glob\n",
    "import matplotlib.pyplot as plt\n",
    "from sklearn import linear_model\n",
    "from sklearn.model_selection import train_test_split\n",
    "import sklearn.metrics\n",
    "from sklearn import tree\n",
    "# import tensorflow as tf\n",
    "from sklearn.preprocessing import PolynomialFeatures\n",
    "from sklearn import preprocessing"
   ]
  },
  {
   "cell_type": "code",
   "execution_count": 2,
   "metadata": {},
   "outputs": [],
   "source": [
    "def renameColumns_d(df):\n",
    "    df.columns = ['code', 'name', 'year', 'month', 'day',\n",
    "                  'TMAX', 'STMAX', 'TMIN', 'STMIN', 'T', 'ST', 'TMNG', 'STMNG',\n",
    "                  'OpadySum', 'SOpady', 'OpadyTyp', 'WysSnieg', 'SWysSnieg']"
   ]
  },
  {
   "cell_type": "code",
   "execution_count": 3,
   "metadata": {},
   "outputs": [],
   "source": [
    "def renameColumns_d_t(df):\n",
    "    df.columns = ['code', 'name', 'year', 'month', 'day', 'T', 'ST',\n",
    "                  'WLGS', 'SWLGS', 'FWS', 'SFWS', 'NOS', 'SNOS']"
   ]
  },
  {
   "cell_type": "code",
   "execution_count": 4,
   "metadata": {},
   "outputs": [],
   "source": [
    "def addWeekDay(df):\n",
    "    df['weekDay'] = df.apply(\n",
    "        lambda row: 1 + ((int(row['day']) + (2 if int(row['month']) == 3 else 5)) % 7),\n",
    "    axis = 1)"
   ]
  },
  {
   "cell_type": "code",
   "execution_count": 5,
   "metadata": {},
   "outputs": [],
   "source": [
    "def removeNotWarsaw(df):\n",
    "    return df[df.name.astype('str')\n",
    "            .apply(lambda name: name.find('WARSZAWA-BIELANY') == 0)]"
   ]
  },
  {
   "cell_type": "code",
   "execution_count": 6,
   "metadata": {},
   "outputs": [],
   "source": [
    "def whichDayPart(hour):\n",
    "    if hour > 2 and hour <= 4:\n",
    "        return 1\n",
    "    elif hour > 4 and hour <= 6:\n",
    "        return 2\n",
    "    elif hour > 6 and hour <= 8:\n",
    "        return 3\n",
    "    elif hour > 8 and hour <= 10:\n",
    "        return 4\n",
    "    elif hour > 10 and hour <= 12:\n",
    "        return 5\n",
    "    elif hour > 12 and hour <= 14:\n",
    "        return 6\n",
    "    elif hour > 14 and hour <= 16:\n",
    "        return 7  \n",
    "    elif hour > 16 and hour <= 18:\n",
    "        return 8\n",
    "    elif hour > 18 and hour <= 20:\n",
    "        return 9\n",
    "    elif hour > 20 and hour <= 22:\n",
    "        return 10 \n",
    "    else:\n",
    "        return 0"
   ]
  },
  {
   "cell_type": "code",
   "execution_count": 7,
   "metadata": {},
   "outputs": [],
   "source": [
    "k_d_mar = pd.read_csv('data\\k_d_03_2018.csv',\n",
    "                      header = None, delimiter = ',', encoding = 'ANSI')"
   ]
  },
  {
   "cell_type": "code",
   "execution_count": 8,
   "metadata": {},
   "outputs": [],
   "source": [
    "k_d_t_mar = pd.read_csv('data\\k_d_t_03_2018.csv',\n",
    "                        header = None, delimiter = ',', encoding = 'ANSI')"
   ]
  },
  {
   "cell_type": "code",
   "execution_count": 9,
   "metadata": {},
   "outputs": [],
   "source": [
    "k_d_kw = pd.read_csv('data\\k_d_04_2018.csv',\n",
    "                     header = None, delimiter = ',', encoding = 'ANSI')"
   ]
  },
  {
   "cell_type": "code",
   "execution_count": 10,
   "metadata": {},
   "outputs": [],
   "source": [
    "k_d_t_kw = pd.read_csv('data\\k_d_t_04_2018.csv',\n",
    "                       header = None, delimiter = ',', encoding = 'ANSI')"
   ]
  },
  {
   "cell_type": "code",
   "execution_count": 11,
   "metadata": {},
   "outputs": [],
   "source": [
    "renameColumns_d(k_d_mar)\n",
    "renameColumns_d(k_d_kw)\n",
    "renameColumns_d_t(k_d_t_mar)\n",
    "renameColumns_d_t(k_d_t_kw)"
   ]
  },
  {
   "cell_type": "code",
   "execution_count": 12,
   "metadata": {},
   "outputs": [],
   "source": [
    "addWeekDay(k_d_mar)\n",
    "addWeekDay(k_d_t_mar)\n",
    "addWeekDay(k_d_kw)\n",
    "addWeekDay(k_d_t_kw)"
   ]
  },
  {
   "cell_type": "code",
   "execution_count": 13,
   "metadata": {},
   "outputs": [],
   "source": [
    "k_d_mar = removeNotWarsaw(k_d_mar)\n",
    "k_d_t_mar = removeNotWarsaw(k_d_t_mar)\n",
    "k_d_kw = removeNotWarsaw(k_d_kw)\n",
    "k_d_t_kw = removeNotWarsaw(k_d_t_kw)"
   ]
  },
  {
   "cell_type": "code",
   "execution_count": 14,
   "metadata": {},
   "outputs": [],
   "source": [
    "fileList = glob.glob(\"data\\\\rowery\\\\*.json\")"
   ]
  },
  {
   "cell_type": "code",
   "execution_count": 15,
   "metadata": {},
   "outputs": [],
   "source": [
    "df = pd.DataFrame(columns = ['month', 'day', 'hour', 'avBikes'])  \n",
    "for fileName in fileList:\n",
    "    if os.path.getsize(fileName) > 10000:\n",
    "        with open(fileName, 'r') as json_file:\n",
    "            data = json.load(json_file)\n",
    "        df2 = pd.DataFrame([[\n",
    "            fileName.split('\\\\')[2][4:6],\n",
    "            fileName.split('\\\\')[2][6:8],\n",
    "            fileName.split('\\\\')[2][9:11],\n",
    "            data[0]['region_info'][\"available_bikes\"]\n",
    "        ]], columns = ['month', 'day', 'hour', 'avBikes'])\n",
    "        df = df.append(df2)        "
   ]
  },
  {
   "cell_type": "code",
   "execution_count": 16,
   "metadata": {},
   "outputs": [],
   "source": [
    "addWeekDay(df)"
   ]
  },
  {
   "cell_type": "code",
   "execution_count": 17,
   "metadata": {},
   "outputs": [],
   "source": [
    "k_d = k_d_mar.append(k_d_kw)"
   ]
  },
  {
   "cell_type": "code",
   "execution_count": 18,
   "metadata": {},
   "outputs": [],
   "source": [
    "k_d_t = k_d_t_mar.append(k_d_t_kw)"
   ]
  },
  {
   "cell_type": "code",
   "execution_count": 19,
   "metadata": {},
   "outputs": [],
   "source": [
    "df = df.astype({'month': 'int64'})\n",
    "df = df.astype({'day': 'int64'})\n",
    "df = df.astype({'hour': 'int64'})\n",
    "df = df.astype({'avBikes': 'float'})"
   ]
  },
  {
   "cell_type": "code",
   "execution_count": 20,
   "metadata": {},
   "outputs": [],
   "source": [
    "    \n",
    "df['Temp'] = df.apply(\n",
    "   lambda row: k_d.loc[k_d['month'] == row['month']].loc[k_d['day'] == row['day']]['T'].values[0],\n",
    "axis = 1)\n",
    "df['Wind'] = df.apply(\n",
    "   lambda row: k_d_t.loc[k_d_t['month'] == row['month']].loc[k_d_t['day'] == row['day']]['FWS'].values[0],\n",
    "axis = 1)\n",
    "df['Clouds'] = df.apply(\n",
    "   lambda row: k_d_t.loc[k_d_t['month'] == row['month']].loc[k_d_t['day'] == row['day']]['NOS'].values[0],\n",
    "axis = 1)\n",
    "df['Rain'] = df.apply(\n",
    "   lambda row: k_d.loc[k_d['month'] == row['month']].loc[k_d['day'] == row['day']]['OpadySum'].values[0],\n",
    "axis = 1)"
   ]
  },
  {
   "cell_type": "code",
   "execution_count": 21,
   "metadata": {},
   "outputs": [],
   "source": [
    "df['dayPart'] = df.apply(\n",
    "    lambda row: whichDayPart(row['hour']), axis = 1)"
   ]
  },
  {
   "cell_type": "code",
   "execution_count": 22,
   "metadata": {},
   "outputs": [
    {
     "data": {
      "image/png": "[encoded data removed]",
      "text/plain": [
       "<Figure size 432x288 with 1 Axes>"
      ]
     },
     "metadata": {
      "needs_background": "light"
     },
     "output_type": "display_data"
    }
   ],
   "source": [
    "plt.hist(df['avBikes'], 5, facecolor='blue', alpha=0.5)\n",
    "plt.show()"
   ]
  },
  {
   "cell_type": "code",
   "execution_count": 23,
   "metadata": {},
   "outputs": [
    {
     "data": {
      "text/plain": [
       "(array([ 431.,  716., 1293., 1305.,  432.]),\n",
       " array([-6.9 , -3.44,  0.02,  3.48,  6.94, 10.4 ]),\n",
       " <a list of 5 Patch objects>)"
      ]
     },
     "execution_count": 23,
     "metadata": {},
     "output_type": "execute_result"
    },
    {
     "data": {
      "image/png": "[encoded data removed]",
      "text/plain": [
       "<Figure size 432x288 with 1 Axes>"
      ]
     },
     "metadata": {
      "needs_background": "light"
     },
     "output_type": "display_data"
    }
   ],
   "source": [
    "plt.hist(df['Temp'], 5, facecolor='blue', alpha=0.5)"
   ]
  },
  {
   "cell_type": "code",
   "execution_count": 24,
   "metadata": {},
   "outputs": [
    {
     "data": {
      "text/plain": [
       "(array([ 282., 1006., 1866.,  572.,  451.]),\n",
       " array([0.7, 1.7, 2.7, 3.7, 4.7, 5.7]),\n",
       " <a list of 5 Patch objects>)"
      ]
     },
     "execution_count": 24,
     "metadata": {},
     "output_type": "execute_result"
    },
    {
     "data": {
      "image/png": "[encoded data removed]",
      "text/plain": [
       "<Figure size 432x288 with 1 Axes>"
      ]
     },
     "metadata": {
      "needs_background": "light"
     },
     "output_type": "display_data"
    }
   ],
   "source": [
    "plt.hist(df['Wind'], 5, facecolor='blue', alpha=0.5)"
   ]
  },
  {
   "cell_type": "code",
   "execution_count": 25,
   "metadata": {},
   "outputs": [
    {
     "data": {
      "text/plain": [
       "(array([ 569.,  432.,  432.,  879., 1865.]),\n",
       " array([0. , 1.6, 3.2, 4.8, 6.4, 8. ]),\n",
       " <a list of 5 Patch objects>)"
      ]
     },
     "execution_count": 25,
     "metadata": {},
     "output_type": "execute_result"
    },
    {
     "data": {
      "image/png": "[encoded data removed]",
      "text/plain": [
       "<Figure size 432x288 with 1 Axes>"
      ]
     },
     "metadata": {
      "needs_background": "light"
     },
     "output_type": "display_data"
    }
   ],
   "source": [
    "plt.hist(df['Clouds'], 5, facecolor='blue', alpha=0.5)"
   ]
  },
  {
   "cell_type": "code",
   "execution_count": 26,
   "metadata": {},
   "outputs": [
    {
     "data": {
      "text/plain": [
       "0    5092.0\n",
       "0    5100.0\n",
       "0    5100.0\n",
       "0    5102.0\n",
       "0    5102.0\n",
       "      ...  \n",
       "0    4845.0\n",
       "0    4845.0\n",
       "0    4845.0\n",
       "0    4844.0\n",
       "0    4844.0\n",
       "Name: avBikes, Length: 4177, dtype: float64"
      ]
     },
     "execution_count": 26,
     "metadata": {},
     "output_type": "execute_result"
    }
   ],
   "source": [
    "df['avBikes']"
   ]
  },
  {
   "cell_type": "code",
   "execution_count": 27,
   "metadata": {},
   "outputs": [
    {
     "data": {
      "text/plain": [
       "<matplotlib.collections.PathCollection at 0x2114fa6ad48>"
      ]
     },
     "execution_count": 27,
     "metadata": {},
     "output_type": "execute_result"
    },
    {
     "data": {
      "image/png": "[encoded data removed]",
      "text/plain": [
       "<Figure size 432x288 with 1 Axes>"
      ]
     },
     "metadata": {
      "needs_background": "light"
     },
     "output_type": "display_data"
    }
   ],
   "source": [
    "weekDayMean = df.groupby('weekDay').mean()['avBikes']\n",
    "plt.scatter(weekDayMean.index.values, weekDayMean.values)"
   ]
  },
  {
   "cell_type": "code",
   "execution_count": 28,
   "metadata": {},
   "outputs": [
    {
     "data": {
      "text/plain": [
       "<matplotlib.collections.PathCollection at 0x2114f9f1c88>"
      ]
     },
     "execution_count": 28,
     "metadata": {},
     "output_type": "execute_result"
    },
    {
     "data": {
      "image/png": "[encoded data removed]",
      "text/plain": [
       "<Figure size 432x288 with 1 Axes>"
      ]
     },
     "metadata": {
      "needs_background": "light"
     },
     "output_type": "display_data"
    }
   ],
   "source": [
    "dayPartMean = df.groupby('dayPart').mean()['avBikes']\n",
    "plt.scatter(dayPartMean.index.values, dayPartMean.values)"
   ]
  },
  {
   "cell_type": "code",
   "execution_count": 29,
   "metadata": {},
   "outputs": [
    {
     "data": {
      "text/plain": [
       "<matplotlib.collections.PathCollection at 0x2114f793a48>"
      ]
     },
     "execution_count": 29,
     "metadata": {},
     "output_type": "execute_result"
    },
    {
     "data": {
      "image/png": "[encoded data removed]",
      "text/plain": [
       "<Figure size 432x288 with 1 Axes>"
      ]
     },
     "metadata": {
      "needs_background": "light"
     },
     "output_type": "display_data"
    }
   ],
   "source": [
    "tempMean = df.groupby('Temp').mean()['avBikes']\n",
    "plt.scatter(tempMean.index.values, tempMean.values)"
   ]
  },
  {
   "cell_type": "code",
   "execution_count": 30,
   "metadata": {},
   "outputs": [
    {
     "data": {
      "text/plain": [
       "<matplotlib.collections.PathCollection at 0x2114fa52ac8>"
      ]
     },
     "execution_count": 30,
     "metadata": {},
     "output_type": "execute_result"
    },
    {
     "data": {
      "image/png": "[encoded data removed]",
      "text/plain": [
       "<Figure size 432x288 with 1 Axes>"
      ]
     },
     "metadata": {
      "needs_background": "light"
     },
     "output_type": "display_data"
    }
   ],
   "source": [
    "windMean = df.groupby('Wind').mean()['avBikes']\n",
    "plt.scatter(windMean.index.values, windMean.values)"
   ]
  },
  {
   "cell_type": "code",
   "execution_count": 31,
   "metadata": {},
   "outputs": [
    {
     "data": {
      "text/plain": [
       "<matplotlib.collections.PathCollection at 0x2114f951148>"
      ]
     },
     "execution_count": 31,
     "metadata": {},
     "output_type": "execute_result"
    },
    {
     "data": {
      "image/png": "[encoded data removed]",
      "text/plain": [
       "<Figure size 432x288 with 1 Axes>"
      ]
     },
     "metadata": {
      "needs_background": "light"
     },
     "output_type": "display_data"
    }
   ],
   "source": [
    "cloudsMean = df.groupby('Clouds').mean()['avBikes']\n",
    "plt.scatter(cloudsMean.index.values, cloudsMean.values)"
   ]
  },
  {
   "cell_type": "code",
   "execution_count": 32,
   "metadata": {},
   "outputs": [
    {
     "data": {
      "text/plain": [
       "<matplotlib.collections.PathCollection at 0x21151de6548>"
      ]
     },
     "execution_count": 32,
     "metadata": {},
     "output_type": "execute_result"
    },
    {
     "data": {
      "image/png": "[encoded data removed]",
      "text/plain": [
       "<Figure size 432x288 with 1 Axes>"
      ]
     },
     "metadata": {
      "needs_background": "light"
     },
     "output_type": "display_data"
    }
   ],
   "source": [
    "rainMean = df.groupby('Rain').mean()['avBikes']\n",
    "plt.scatter(rainMean.index.values, rainMean.values)"
   ]
  },
  {
   "cell_type": "code",
   "execution_count": 33,
   "metadata": {},
   "outputs": [],
   "source": [
    "df['logY'] = df.apply(\n",
    "    lambda row: np.log(row['avBikes']), axis = 1)"
   ]
  },
  {
   "cell_type": "code",
   "execution_count": 34,
   "metadata": {},
   "outputs": [
    {
     "data": {
      "text/html": [
       "<div>\n",
       "<style scoped>\n",
       "    .dataframe tbody tr th:only-of-type {\n",
       "        vertical-align: middle;\n",
       "    }\n",
       "\n",
       "    .dataframe tbody tr th {\n",
       "        vertical-align: top;\n",
       "    }\n",
       "\n",
       "    .dataframe thead th {\n",
       "        text-align: right;\n",
       "    }\n",
       "</style>\n",
       "<table border=\"1\" class=\"dataframe\">\n",
       "  <thead>\n",
       "    <tr style=\"text-align: right;\">\n",
       "      <th></th>\n",
       "      <th>month</th>\n",
       "      <th>day</th>\n",
       "      <th>hour</th>\n",
       "      <th>avBikes</th>\n",
       "      <th>weekDay</th>\n",
       "      <th>Temp</th>\n",
       "      <th>Wind</th>\n",
       "      <th>Clouds</th>\n",
       "      <th>Rain</th>\n",
       "      <th>dayPart</th>\n",
       "      <th>logY</th>\n",
       "    </tr>\n",
       "  </thead>\n",
       "  <tbody>\n",
       "    <tr>\n",
       "      <th>0</th>\n",
       "      <td>3</td>\n",
       "      <td>4</td>\n",
       "      <td>0</td>\n",
       "      <td>5092.0</td>\n",
       "      <td>7</td>\n",
       "      <td>-6.9</td>\n",
       "      <td>1.7</td>\n",
       "      <td>1.0</td>\n",
       "      <td>0.0</td>\n",
       "      <td>0</td>\n",
       "      <td>8.535426</td>\n",
       "    </tr>\n",
       "    <tr>\n",
       "      <th>0</th>\n",
       "      <td>3</td>\n",
       "      <td>4</td>\n",
       "      <td>0</td>\n",
       "      <td>5100.0</td>\n",
       "      <td>7</td>\n",
       "      <td>-6.9</td>\n",
       "      <td>1.7</td>\n",
       "      <td>1.0</td>\n",
       "      <td>0.0</td>\n",
       "      <td>0</td>\n",
       "      <td>8.536996</td>\n",
       "    </tr>\n",
       "    <tr>\n",
       "      <th>0</th>\n",
       "      <td>3</td>\n",
       "      <td>4</td>\n",
       "      <td>0</td>\n",
       "      <td>5100.0</td>\n",
       "      <td>7</td>\n",
       "      <td>-6.9</td>\n",
       "      <td>1.7</td>\n",
       "      <td>1.0</td>\n",
       "      <td>0.0</td>\n",
       "      <td>0</td>\n",
       "      <td>8.536996</td>\n",
       "    </tr>\n",
       "    <tr>\n",
       "      <th>0</th>\n",
       "      <td>3</td>\n",
       "      <td>4</td>\n",
       "      <td>0</td>\n",
       "      <td>5102.0</td>\n",
       "      <td>7</td>\n",
       "      <td>-6.9</td>\n",
       "      <td>1.7</td>\n",
       "      <td>1.0</td>\n",
       "      <td>0.0</td>\n",
       "      <td>0</td>\n",
       "      <td>8.537388</td>\n",
       "    </tr>\n",
       "    <tr>\n",
       "      <th>0</th>\n",
       "      <td>3</td>\n",
       "      <td>4</td>\n",
       "      <td>0</td>\n",
       "      <td>5102.0</td>\n",
       "      <td>7</td>\n",
       "      <td>-6.9</td>\n",
       "      <td>1.7</td>\n",
       "      <td>1.0</td>\n",
       "      <td>0.0</td>\n",
       "      <td>0</td>\n",
       "      <td>8.537388</td>\n",
       "    </tr>\n",
       "    <tr>\n",
       "      <th>...</th>\n",
       "      <td>...</td>\n",
       "      <td>...</td>\n",
       "      <td>...</td>\n",
       "      <td>...</td>\n",
       "      <td>...</td>\n",
       "      <td>...</td>\n",
       "      <td>...</td>\n",
       "      <td>...</td>\n",
       "      <td>...</td>\n",
       "      <td>...</td>\n",
       "      <td>...</td>\n",
       "    </tr>\n",
       "    <tr>\n",
       "      <th>0</th>\n",
       "      <td>4</td>\n",
       "      <td>2</td>\n",
       "      <td>2</td>\n",
       "      <td>4845.0</td>\n",
       "      <td>1</td>\n",
       "      <td>3.7</td>\n",
       "      <td>4.7</td>\n",
       "      <td>5.3</td>\n",
       "      <td>0.0</td>\n",
       "      <td>0</td>\n",
       "      <td>8.485703</td>\n",
       "    </tr>\n",
       "    <tr>\n",
       "      <th>0</th>\n",
       "      <td>4</td>\n",
       "      <td>2</td>\n",
       "      <td>2</td>\n",
       "      <td>4845.0</td>\n",
       "      <td>1</td>\n",
       "      <td>3.7</td>\n",
       "      <td>4.7</td>\n",
       "      <td>5.3</td>\n",
       "      <td>0.0</td>\n",
       "      <td>0</td>\n",
       "      <td>8.485703</td>\n",
       "    </tr>\n",
       "    <tr>\n",
       "      <th>0</th>\n",
       "      <td>4</td>\n",
       "      <td>2</td>\n",
       "      <td>2</td>\n",
       "      <td>4845.0</td>\n",
       "      <td>1</td>\n",
       "      <td>3.7</td>\n",
       "      <td>4.7</td>\n",
       "      <td>5.3</td>\n",
       "      <td>0.0</td>\n",
       "      <td>0</td>\n",
       "      <td>8.485703</td>\n",
       "    </tr>\n",
       "    <tr>\n",
       "      <th>0</th>\n",
       "      <td>4</td>\n",
       "      <td>2</td>\n",
       "      <td>2</td>\n",
       "      <td>4844.0</td>\n",
       "      <td>1</td>\n",
       "      <td>3.7</td>\n",
       "      <td>4.7</td>\n",
       "      <td>5.3</td>\n",
       "      <td>0.0</td>\n",
       "      <td>0</td>\n",
       "      <td>8.485496</td>\n",
       "    </tr>\n",
       "    <tr>\n",
       "      <th>0</th>\n",
       "      <td>4</td>\n",
       "      <td>2</td>\n",
       "      <td>3</td>\n",
       "      <td>4844.0</td>\n",
       "      <td>1</td>\n",
       "      <td>3.7</td>\n",
       "      <td>4.7</td>\n",
       "      <td>5.3</td>\n",
       "      <td>0.0</td>\n",
       "      <td>1</td>\n",
       "      <td>8.485496</td>\n",
       "    </tr>\n",
       "  </tbody>\n",
       "</table>\n",
       "<p>4037 rows × 11 columns</p>\n",
       "</div>"
      ],
      "text/plain": [
       "    month  day  hour  avBikes  weekDay  Temp  Wind  Clouds  Rain  dayPart  \\\n",
       "0       3    4     0   5092.0        7  -6.9   1.7     1.0   0.0        0   \n",
       "0       3    4     0   5100.0        7  -6.9   1.7     1.0   0.0        0   \n",
       "0       3    4     0   5100.0        7  -6.9   1.7     1.0   0.0        0   \n",
       "0       3    4     0   5102.0        7  -6.9   1.7     1.0   0.0        0   \n",
       "0       3    4     0   5102.0        7  -6.9   1.7     1.0   0.0        0   \n",
       "..    ...  ...   ...      ...      ...   ...   ...     ...   ...      ...   \n",
       "0       4    2     2   4845.0        1   3.7   4.7     5.3   0.0        0   \n",
       "0       4    2     2   4845.0        1   3.7   4.7     5.3   0.0        0   \n",
       "0       4    2     2   4845.0        1   3.7   4.7     5.3   0.0        0   \n",
       "0       4    2     2   4844.0        1   3.7   4.7     5.3   0.0        0   \n",
       "0       4    2     3   4844.0        1   3.7   4.7     5.3   0.0        1   \n",
       "\n",
       "        logY  \n",
       "0   8.535426  \n",
       "0   8.536996  \n",
       "0   8.536996  \n",
       "0   8.537388  \n",
       "0   8.537388  \n",
       "..       ...  \n",
       "0   8.485703  \n",
       "0   8.485703  \n",
       "0   8.485703  \n",
       "0   8.485496  \n",
       "0   8.485496  \n",
       "\n",
       "[4037 rows x 11 columns]"
      ]
     },
     "execution_count": 34,
     "metadata": {},
     "output_type": "execute_result"
    }
   ],
   "source": [
    "df = df[np.abs(df.Rain-df.Rain.mean()) <= (3*df.Rain.std())]\n",
    "df"
   ]
  },
  {
   "cell_type": "code",
   "execution_count": null,
   "metadata": {},
   "outputs": [],
   "source": [
    "x = df[['weekDay', 'dayPart', 'Temp', 'Rain', 'Wind', 'Clouds', 'hour']]\n",
    "y = df['avBikes']\n",
    "x_train, x_test, y_train, y_test = train_test_split(x,y, test_size = 0.25, random_state = 0)"
   ]
  },
  {
   "cell_type": "code",
   "execution_count": null,
   "metadata": {},
   "outputs": [],
   "source": [
    "regr = linear_model.LinearRegression(normalize = True)\n",
    "regr.fit(x_train,y_train)\n",
    "y_pred_train = regr.predict(x_train)\n",
    "y_pred_test = regr.predict(x_test)"
   ]
  },
  {
   "cell_type": "code",
   "execution_count": null,
   "metadata": {},
   "outputs": [],
   "source": [
    "print(sklearn.metrics.mean_absolute_error(y_train, y_pred_train))\n",
    "print(sklearn.metrics.r2_score(y_train, y_pred_train))\n",
    "print(sklearn.metrics.mean_absolute_error(y_test, y_pred_test))\n",
    "print(sklearn.metrics.r2_score(y_test, y_pred_test))"
   ]
  },
  {
   "cell_type": "code",
   "execution_count": null,
   "metadata": {},
   "outputs": [],
   "source": [
    "poly = PolynomialFeatures(2)\n",
    "X_train = poly.fit_transform(x_train)\n",
    "X_test = poly.fit_transform(x_test)\n",
    "X = poly.fit_transform(x)"
   ]
  },
  {
   "cell_type": "code",
   "execution_count": null,
   "metadata": {},
   "outputs": [],
   "source": [
    "regr = linear_model.LinearRegression(normalize = True)\n",
    "regr.fit(X_train,y_train)\n",
    "y_pred_train = regr.predict(X_train)\n",
    "y_pred_test = regr.predict(X_test)"
   ]
  },
  {
   "cell_type": "code",
   "execution_count": null,
   "metadata": {},
   "outputs": [],
   "source": [
    "print(sklearn.metrics.mean_absolute_error(y_train, y_pred_train))\n",
    "print(sklearn.metrics.r2_score(y_train, y_pred_train))\n",
    "print(sklearn.metrics.mean_absolute_error(y_test, y_pred_test))\n",
    "print(sklearn.metrics.r2_score(y_test, y_pred_test))\n",
    "print(sklearn.metrics.r2_score(y_test, y_pred_test))"
   ]
  },
  {
   "cell_type": "code",
   "execution_count": null,
   "metadata": {},
   "outputs": [],
   "source": [
    "df"
   ]
  }
 ],
 "metadata": {
  "kernelspec": {
   "display_name": "Python 3",
   "language": "python",
   "name": "python3"
  },
  "language_info": {
   "codemirror_mode": {
    "name": "ipython",
    "version": 3
   },
   "file_extension": ".py",
   "mimetype": "text/x-python",
   "name": "python",
   "nbconvert_exporter": "python",
   "pygments_lexer": "ipython3",
   "version": "3.7.4"
  }
 },
 "nbformat": 4,
 "nbformat_minor": 4
}
